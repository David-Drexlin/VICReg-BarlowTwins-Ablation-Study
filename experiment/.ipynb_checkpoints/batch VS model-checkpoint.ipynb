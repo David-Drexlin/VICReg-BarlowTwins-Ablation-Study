{
 "cells": [
  {
   "cell_type": "markdown",
   "id": "4533ee81-d579-4867-b15b-aa7f3f8f385f",
   "metadata": {
    "jp-MarkdownHeadingCollapsed": true,
    "tags": []
   },
   "source": [
    "# Experiment Introduction\n",
    "\n",
    "Background, \n",
    "In order to do ablation experiment, we have diffculty like\n",
    "1. most of them are same, we have to repeat many times.\n",
    "2. too many model, config, code hard to manage and save. too messy\n",
    "\n",
    "\n",
    "For all kind of SSL training workflow, we have to define the hyperparameters includes 4 aspect,\n",
    "Dataset\n",
    "Model\n",
    "Training\n",
    "Saving COnfig\n",
    "\n",
    "\n",
    "\n",
    "How to Use this Experiment?\n",
    "\n"
   ]
  },
  {
   "cell_type": "markdown",
   "id": "1ff5e60f-6c7d-47b6-8b30-5ad2e6c94b09",
   "metadata": {
    "tags": []
   },
   "source": [
    "# Library"
   ]
  },
  {
   "cell_type": "code",
   "execution_count": null,
   "id": "71222088-d62f-40fc-b935-f9c8ee99a579",
   "metadata": {},
   "outputs": [],
   "source": [
    "# Import config\n",
    "import sys \n",
    "sys.path.append(\"C:/Users/isxzl/OneDrive/Code/VICReg-BarlowTwins-Ablation-Study/autoSSL\")\n",
    "sys.path.append(\"C:/Users/isxzl/OneDrive/Code/VICReg-BarlowTwins-Ablation-Study/\")\n",
    "\n",
    "import yaml\n",
    "from torchvision.transforms import RandomRotation,GaussianBlur,ColorJitter\n",
    "from autoSSL.evaluate import eval_KNN,eval_linear,eval_KNNplot,pipe_collate\n",
    "from autoSSL.models import BarlowTwins, BYOL, MoCo, SimCLR, SimSiam, VICReg ,pipe_model \n",
    "from autoSSL.utils import embedding_feature,ck_callback,dict2transformer,join_dir,ContinuousCSVLogger  \n",
    "from autoSSL.data import PipeDataset\n",
    "from autoSSL.train import Trainer\n",
    " \n"
   ]
  },
  {
   "cell_type": "markdown",
   "id": "06eba85e-c2d4-4ed3-a276-2b03ff82f764",
   "metadata": {
    "tags": []
   },
   "source": [
    "# Import Global Baseline Config"
   ]
  },
  {
   "cell_type": "code",
   "execution_count": null,
   "id": "bb0e5479-43a3-4b63-b9e2-b8ce70103290",
   "metadata": {},
   "outputs": [],
   "source": [
    "# Load the YAML file\n",
    "with open('global.yaml', 'r') as file:\n",
    "    global_config = yaml.safe_load(file)\n",
    "\n",
    "# Write your experiment notebook name here\n",
    "global_config[\"experiment\"]=\"batch VS model\"     \n",
    "    \n",
    "# Define global view function\n",
    "global_SSL_augmentation = {\n",
    "    'RandomResizedCrop': {'size': (global_config[\"input_size\"], global_config[\"input_size\"])},\n",
    "    'RandomApply':{'transforms':[RandomRotation(degrees=90)], 'p':0.8},\n",
    "    'RandomHorizontalFlip': {'p': 0.5},\n",
    "    'RandomVerticalFlip':  {'p':0.5},\n",
    "    'RandomApply':{'transforms': [ColorJitter(brightness=0.04,contrast=0.04,saturation=0.02,hue=0.01)], 'p':0.8},\n",
    "    'RandomGrayscale' :{'p':0.2},\n",
    "    'RandomSolarize':{'threshold':128, 'p':0.1},\n",
    "    'RandomApply':{'transforms':[GaussianBlur(kernel_size=3,sigma=(0.2, 2))],'p':0.8},\n",
    "    'ToTensor': {},\n",
    "    'Normalize': {\"mean\": [0.485, 0.456, 0.406], \"std\": [0.229, 0.224, 0.225]}\n",
    "}\n"
   ]
  },
  {
   "cell_type": "markdown",
   "id": "5a869f3e-3e94-4d05-bec5-6fdd31695b58",
   "metadata": {},
   "source": [
    "# Train Model"
   ]
  },
  {
   "cell_type": "markdown",
   "id": "5d4e6970-4604-485e-bd37-60383de96b81",
   "metadata": {
    "tags": []
   },
   "source": [
    "## Config 1"
   ]
  },
  {
   "cell_type": "code",
   "execution_count": null,
   "id": "eb1352c0-9e27-470a-919d-af85ba9365b5",
   "metadata": {},
   "outputs": [],
   "source": [
    " \n",
    "# MAKE YOUR OWN CONFIG\n",
    "config=global_config\n",
    "\n",
    "# Fill the config\n",
    "SSL_augmentation=global_SSL_augmentation\n",
    "config[\"name\"]=\"batch_32\"\n",
    "config[\"batch\"]=32\n",
    "\n",
    "# THIS IS THE CODE TO LOAD DATASET\n",
    "pdata= PipeDataset(config=config,augmentation=dict2transformer(SSL_augmentation,view=config[\"view\"]))\n",
    "# THIS IS THE CODE TO LOAD MODEL\n",
    "pmodel=pipe_model(config=config)\n",
    "\n",
    "# Use this if you want to START a train\n",
    "trainer=Trainer(config, model_mode=\"start\")\n",
    "trainer.fit(pmodel, pdata.dataloader)  \n",
    "\n",
    "# Use this if you want to CONTINUE to train\n",
    "#trainer1=Trainer(config, model_mode=\"continue\", extra_epoch=0)\n",
    "#trainer1.fit(pmodel, pdata.dataloader,ckpt_path=\"latest\")  "
   ]
  },
  {
   "cell_type": "markdown",
   "id": "8a70d5bb-279d-47b1-8850-dd2288e5e568",
   "metadata": {},
   "source": [
    "## Config 2"
   ]
  },
  {
   "cell_type": "code",
   "execution_count": null,
   "id": "ebb66c1a-89fa-4ce2-9f35-92ba04726170",
   "metadata": {},
   "outputs": [],
   "source": [
    " \n",
    "# MAKE YOUR OWN CONFIG\n",
    "config=global_config\n",
    "\n",
    "# Fill the config\n",
    "SSL_augmentation=global_SSL_augmentation\n",
    "config[\"name\"]=\"batch_64\"\n",
    "config[\"batch\"]=64\n",
    "\n",
    "# THIS IS THE CODE TO LOAD DATASET\n",
    "pdata= PipeDataset(config=config,augmentation=dict2transformer(SSL_augmentation,view=config[\"view\"]))\n",
    "# THIS IS THE CODE TO LOAD MODEL\n",
    "pmodel=pipe_model(config=config)\n",
    "\n",
    "# Use this if you want to START a train\n",
    "trainer=Trainer(config, model_mode=\"start\")\n",
    "trainer.fit(pmodel, pdata.dataloader)  \n",
    "\n",
    "# Use this if you want to CONTINUE to train\n",
    "#trainer1=Trainer(config, model_mode=\"continue\", extra_epoch=0)\n",
    "#trainer1.fit(pmodel, pdata.dataloader,ckpt_path=\"latest\")  "
   ]
  },
  {
   "cell_type": "markdown",
   "id": "b5d877c7-b5f9-4dd9-ae01-04f29327fe52",
   "metadata": {},
   "source": [
    "## Config 3"
   ]
  },
  {
   "cell_type": "code",
   "execution_count": null,
   "id": "67682be1-2079-464a-97e5-26c474f5bdfb",
   "metadata": {},
   "outputs": [],
   "source": [
    " \n",
    "# MAKE YOUR OWN CONFIG\n",
    "config=global_config\n",
    "\n",
    "# Fill the config\n",
    "SSL_augmentation=global_SSL_augmentation\n",
    "config[\"name\"]=\"batch_128\"\n",
    "config[\"batch\"]=128\n",
    "\n",
    "# THIS IS THE CODE TO LOAD DATASET\n",
    "pdata= PipeDataset(config=config,augmentation=dict2transformer(SSL_augmentation,view=config[\"view\"]))\n",
    "# THIS IS THE CODE TO LOAD MODEL\n",
    "pmodel=pipe_model(config=config)\n",
    "\n",
    "# Use this if you want to START a train\n",
    "trainer=Trainer(config, model_mode=\"start\")\n",
    "trainer.fit(pmodel, pdata.dataloader)  \n",
    "\n",
    "# Use this if you want to CONTINUE to train\n",
    "#trainer1=Trainer(config, model_mode=\"continue\", extra_epoch=0)\n",
    "#trainer1.fit(pmodel, pdata.dataloader,ckpt_path=\"latest\")  "
   ]
  },
  {
   "cell_type": "markdown",
   "id": "f24c6a03-29f7-449a-af3a-05075be370e0",
   "metadata": {},
   "source": [
    "## Config more ... "
   ]
  },
  {
   "cell_type": "code",
   "execution_count": null,
   "id": "0f24b2f5-fdec-471c-a610-7d23c7006da4",
   "metadata": {},
   "outputs": [],
   "source": [
    " \n",
    "# MAKE YOUR OWN CONFIG\n",
    "config=global_config\n",
    "\n",
    "# Fill the config\n",
    "SSL_augmentation=global_SSL_augmentation\n",
    "config[\"name\"]=\"batch_256\"\n",
    "config[\"batch\"]=256\n",
    "\n",
    "# THIS IS THE CODE TO LOAD DATASET\n",
    "pdata= PipeDataset(config=config,augmentation=dict2transformer(SSL_augmentation,view=config[\"view\"]))\n",
    "# THIS IS THE CODE TO LOAD MODEL\n",
    "pmodel=pipe_model(config=config)\n",
    "\n",
    "# Use this if you want to START a train\n",
    "trainer=Trainer(config, model_mode=\"start\")\n",
    "trainer.fit(pmodel, pdata.dataloader)  \n",
    "\n",
    "# Use this if you want to CONTINUE to train\n",
    "#trainer1=Trainer(config, model_mode=\"continue\", extra_epoch=0)\n",
    "#trainer1.fit(pmodel, pdata.dataloader,ckpt_path=\"latest\")  "
   ]
  },
  {
   "cell_type": "code",
   "execution_count": null,
   "id": "a536029d-1a2d-4f86-8513-4afd55858850",
   "metadata": {},
   "outputs": [],
   "source": [
    " \n",
    "# MAKE YOUR OWN CONFIG\n",
    "config=global_config\n",
    "\n",
    "# Fill the config\n",
    "SSL_augmentation=global_SSL_augmentation\n",
    "config[\"name\"]=\"batch_512\"\n",
    "config[\"batch\"]=512\n",
    "\n",
    "# THIS IS THE CODE TO LOAD DATASET\n",
    "pdata= PipeDataset(config=config,augmentation=dict2transformer(SSL_augmentation,view=config[\"view\"]))\n",
    "# THIS IS THE CODE TO LOAD MODEL\n",
    "pmodel=pipe_model(config=config)\n",
    "\n",
    "# Use this if you want to START a train\n",
    "trainer=Trainer(config, model_mode=\"start\")\n",
    "trainer.fit(pmodel, pdata.dataloader)  \n",
    "\n",
    "# Use this if you want to CONTINUE to train\n",
    "#trainer1=Trainer(config, model_mode=\"continue\", extra_epoch=0)\n",
    "#trainer1.fit(pmodel, pdata.dataloader,ckpt_path=\"latest\")  "
   ]
  },
  {
   "cell_type": "code",
   "execution_count": null,
   "id": "fe001b96-2c3a-478f-89ee-160536ddc097",
   "metadata": {},
   "outputs": [],
   "source": [
    " \n",
    "# MAKE YOUR OWN CONFIG\n",
    "config=global_config\n",
    "\n",
    "# Fill the config\n",
    "SSL_augmentation=global_SSL_augmentation\n",
    "config[\"name\"]=\"batch_1024\"\n",
    "config[\"batch\"]=1024\n",
    "\n",
    "# THIS IS THE CODE TO LOAD DATASET\n",
    "pdata= PipeDataset(config=config,augmentation=dict2transformer(SSL_augmentation,view=config[\"view\"]))\n",
    "# THIS IS THE CODE TO LOAD MODEL\n",
    "pmodel=pipe_model(config=config)\n",
    "\n",
    "# Use this if you want to START a train\n",
    "trainer=Trainer(config, model_mode=\"start\")\n",
    "trainer.fit(pmodel, pdata.dataloader)  \n",
    "\n",
    "# Use this if you want to CONTINUE to train\n",
    "#trainer1=Trainer(config, model_mode=\"continue\", extra_epoch=0)\n",
    "#trainer1.fit(pmodel, pdata.dataloader,ckpt_path=\"latest\")  "
   ]
  },
  {
   "cell_type": "code",
   "execution_count": null,
   "id": "8016c314-cd0f-4f99-9072-44dc35033bea",
   "metadata": {},
   "outputs": [],
   "source": [
    " \n",
    "# MAKE YOUR OWN CONFIG\n",
    "config=global_config\n",
    "\n",
    "# Fill the config\n",
    "SSL_augmentation=global_SSL_augmentation\n",
    "config[\"name\"]=\"batch_1024\"\n",
    "config[\"batch\"]=1024\n",
    "\n",
    "# THIS IS THE CODE TO LOAD DATASET\n",
    "pdata= PipeDataset(config=config,augmentation=dict2transformer(SSL_augmentation,view=config[\"view\"]))\n",
    "# THIS IS THE CODE TO LOAD MODEL\n",
    "pmodel=pipe_model(config=config)\n",
    "\n",
    "# Use this if you want to START a train\n",
    "trainer=Trainer(config, model_mode=\"start\")\n",
    "trainer.fit(pmodel, pdata.dataloader)  \n",
    "\n",
    "# Use this if you want to CONTINUE to train\n",
    "#trainer1=Trainer(config, model_mode=\"continue\", extra_epoch=0)\n",
    "#trainer1.fit(pmodel, pdata.dataloader,ckpt_path=\"latest\")  "
   ]
  },
  {
   "cell_type": "code",
   "execution_count": null,
   "id": "44e13b52-9b87-4072-9103-b8fd93f3de24",
   "metadata": {},
   "outputs": [],
   "source": [
    " \n",
    "# MAKE YOUR OWN CONFIG\n",
    "config=global_config\n",
    "\n",
    "# Fill the config\n",
    "SSL_augmentation=global_SSL_augmentation\n",
    "config[\"name\"]=\"batch_2048\"\n",
    "config[\"batch\"]=2048\n",
    "\n",
    "# THIS IS THE CODE TO LOAD DATASET\n",
    "pdata= PipeDataset(config=config,augmentation=dict2transformer(SSL_augmentation,view=config[\"view\"]))\n",
    "# THIS IS THE CODE TO LOAD MODEL\n",
    "pmodel=pipe_model(config=config)\n",
    "\n",
    "# Use this if you want to START a train\n",
    "trainer=Trainer(config, model_mode=\"start\")\n",
    "trainer.fit(pmodel, pdata.dataloader)  \n",
    "\n",
    "# Use this if you want to CONTINUE to train\n",
    "#trainer1=Trainer(config, model_mode=\"continue\", extra_epoch=0)\n",
    "#trainer1.fit(pmodel, pdata.dataloader,ckpt_path=\"latest\")  "
   ]
  },
  {
   "cell_type": "markdown",
   "id": "50686839-6777-4c26-b7f6-02b871ac184a",
   "metadata": {},
   "source": [
    "# Evaluation"
   ]
  },
  {
   "cell_type": "code",
   "execution_count": 43,
   "id": "c8ad6455-b8c3-4d5d-b6eb-5627bd52fbee",
   "metadata": {},
   "outputs": [
    {
     "name": "stdout",
     "output_type": "stream",
     "text": [
      "Collating the models' (evaluating) information to experiment_checkpoints/batch VS model/batch_[0-9]+.csv\n",
      "Load the training and testing dataset\n"
     ]
    },
    {
     "name": "stderr",
     "output_type": "stream",
     "text": [
      "100%|████████████████████████████████████████████████████████████████████████████| 8000/8000 [00:05<00:00, 1428.53it/s]\n",
      "100%|████████████████████████████████████████████████████████████████████████████| 8000/8000 [00:05<00:00, 1449.60it/s]\n",
      "100%|████████████████████████████████████████████████████████████████████████████| 2001/2001 [00:01<00:00, 1420.47it/s]\n",
      "100%|████████████████████████████████████████████████████████████████████████████| 2001/2001 [00:01<00:00, 1498.94it/s]\n",
      "100%|████████████████████████████████████████████████████████████████████████████████████| 7/7 [01:27<00:00, 12.50s/it]\n"
     ]
    }
   ],
   "source": [
    "\n",
    "test_augmentation = {\n",
    "    'RandomResizedCrop': {'size': (global_config[\"input_size\"], global_config[\"input_size\"])},\n",
    "    'ToTensor': {},\n",
    "    'Normalize': {\"mean\": [0.485, 0.456, 0.406], \"std\": [0.229, 0.224, 0.225]}\n",
    "}\n",
    "collate =pipe_collate(address=\"experiment_checkpoints/batch VS model/\", reg=\"batch_[0-9]+\")\n",
    " \n",
    "pmodel=pipe_model(config=config)\n",
    "pmodel=pipe_model(config=config)\n",
    "\n",
    "\n",
    "pdata = PipeDataset(input_dir=global_config[\"path_to_test_cifar10\"],\n",
    "    augmentation=dict2transformer(test_augmentation,view=1))\n",
    "\n",
    "\n",
    "aaa=eval_linear(pdata, model=collate, device=global_config[\"device\"], split=0.8)\n"
   ]
  },
  {
   "cell_type": "code",
   "execution_count": 44,
   "id": "ca362de1-b68b-45c8-94f6-853afff878aa",
   "metadata": {},
   "outputs": [
    {
     "data": {
      "text/plain": [
       "[('model_0', 0.23338330834582707),\n",
       " ('model_1', 0.24687656171914044),\n",
       " ('model_2', 0.20339830084957522),\n",
       " ('model_3', 0.23738130934532733),\n",
       " ('model_4', 0.23638180909545228),\n",
       " ('model_5', 0.22088955522238882),\n",
       " ('model_6', 0.24287856071964017)]"
      ]
     },
     "execution_count": 44,
     "metadata": {},
     "output_type": "execute_result"
    }
   ],
   "source": [
    "aaa"
   ]
  }
 ],
 "metadata": {
  "kernelspec": {
   "display_name": "Python 3 (ipykernel)",
   "language": "python",
   "name": "python3"
  },
  "language_info": {
   "codemirror_mode": {
    "name": "ipython",
    "version": 3
   },
   "file_extension": ".py",
   "mimetype": "text/x-python",
   "name": "python",
   "nbconvert_exporter": "python",
   "pygments_lexer": "ipython3",
   "version": "3.9.16"
  }
 },
 "nbformat": 4,
 "nbformat_minor": 5
}
