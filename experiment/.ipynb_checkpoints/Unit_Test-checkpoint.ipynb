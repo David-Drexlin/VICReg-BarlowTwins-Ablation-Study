{
 "cells": [
  {
   "cell_type": "code",
   "execution_count": null,
   "id": "f4832a7c-bcba-4481-aa43-eb3d573489af",
   "metadata": {},
   "outputs": [],
   "source": [
    "import sys \n",
    "sys.path.append(\"C:/Users/isxzl/OneDrive/Code/VICReg-BarlowTwins-Ablation-Study/autoSSL\")\n",
    "import torchvision\n",
    "from lightly.data import LightlyDataset, SimCLRCollateFunction, collate\n",
    "import numpy as np\n",
    "import tqdm\n",
    "import yaml\n",
    "import numpy as np\n",
    "import torch\n",
    "from tqdm import tqdm\n",
    "import pytorch_lightning as pl\n",
    "from autoSSL.evaluate import eval_KNN,eval_linear,eval_KNNplot\n",
    "from autoSSL.models import BarlowTwins, BYOL, MoCo, SimCLR, SimSiam, VICReg\n",
    "from autoSSL.utils import embedding_feature,ck_callback\n",
    "from autoSSL.data import PipeDataset\n",
    "from IPython.display import clear_output"
   ]
  },
  {
   "cell_type": "code",
   "execution_count": null,
   "id": "3ca54805-4770-4440-ae96-fb222b2bb4d1",
   "metadata": {},
   "outputs": [],
   "source": []
  },
  {
   "cell_type": "code",
   "execution_count": null,
   "id": "a461771a-056f-47c5-9b62-f4139df24939",
   "metadata": {},
   "outputs": [],
   "source": [
    "# Load the YAML file\n",
    "with open('global.yaml', 'r') as file:\n",
    "    config = yaml.safe_load(file)\n",
    "\n",
    "# Access the variables from the loaded YAML\n",
    "num_workers = config['num_workers']\n",
    "batch_size = config['batch_size']\n",
    "memory_bank_size = config['memory_bank_size']\n",
    "seed = config['seed']\n",
    "device = config['device']\n",
    "max_epochs = config['max_epochs']\n",
    "input_size = config['input_size']\n",
    "path_to_train = config['path_to_train']\n",
    "path_to_test = config['path_to_test']\n",
    "\n",
    "#pl.seed_everything(seed)\n",
    "finetuning_augmentation = {\n",
    "    'RandomCrop': {'size': input_size, 'padding': 4},\n",
    "    'RandomHorizontalFlip': {},\n",
    "    'ToTensor': {},\n",
    "    'Normalize': {\n",
    "        'mean': collate.imagenet_normalize[\"mean\"],\n",
    "        'std': collate.imagenet_normalize[\"std\"]\n",
    "    }\n",
    "}\n",
    "test_augmentation = {\n",
    "    'ToTensor': {},\n",
    "    'Normalize': {\n",
    "        'mean': collate.imagenet_normalize[\"mean\"],\n",
    "        'std': collate.imagenet_normalize[\"std\"]\n",
    "    }\n",
    "}"
   ]
  },
  {
   "cell_type": "code",
   "execution_count": null,
   "id": "b226bab0-ddac-4cff-b730-bcba0a5e42a2",
   "metadata": {},
   "outputs": [],
   "source": [
    "# Download and test all,"
   ]
  },
  {
   "cell_type": "markdown",
   "id": "9444b5a1-21a0-4fea-b6e3-d937bc23c9e6",
   "metadata": {
    "tags": []
   },
   "source": [
    "# Test Dataset"
   ]
  },
  {
   "cell_type": "code",
   "execution_count": null,
   "id": "943f181c-a9b6-4bd5-a1dc-de9e4e5d9f02",
   "metadata": {},
   "outputs": [],
   "source": [
    "\n",
    "pipe_data_train =PipeDataset(\n",
    "    input_dir=path_to_train, \n",
    "    #source=\"cifar10\" or \"imagenet10\",\n",
    "    #samples=1000, \n",
    "    augmentation=test_augmentation, \n",
    "    batch_size=batch_size,\n",
    "    shuffle=True,\n",
    "    #collate_fn=collate_fn,\n",
    "    drop_last=True,\n",
    "    num_workers=num_workers,\n",
    " \n",
    "\n",
    ")\n",
    "\n",
    "pipe_data_finetuning =PipeDataset(\n",
    "    input_dir=path_to_train, \n",
    "    augmentation=finetuning_augmentation, \n",
    "    samples=1000, \n",
    "    batch_size=batch_size, \n",
    "    shuffle=True,\n",
    "    drop_last=True,\n",
    "    num_workers=num_workers,\n",
    " \n",
    "\n",
    ")\n",
    "\n",
    "pipe_data_test =PipeDataset(\n",
    "    input_dir=path_to_test, \n",
    "    augmentation=test_augmentation, \n",
    "    #samples=1000, \n",
    "    batch_size=batch_size, \n",
    "    shuffle=False,\n",
    "    drop_last=False,\n",
    "    num_workers=num_workers,    \n",
    " \n",
    "\n",
    ")\n",
    "\n",
    "pipe_data_test.plot([2,3,4])\n",
    "pipe_data_test[2]\n",
    "len(pipe_data_test)\n",
    "\n",
    "pipe_data_test.dataloader  # get dataloader \n",
    "pipe_data_test.dataset     # get dataset class\n",
    "pipe_data_test.array       #get array.\n",
    "\n",
    "clear_output()"
   ]
  },
  {
   "cell_type": "code",
   "execution_count": null,
   "id": "807262cb-b455-4239-bc40-a8c295ecc6c9",
   "metadata": {},
   "outputs": [],
   "source": [
    "# Test Split\n",
    "\n",
    "pipe_data_train =PipeDataset(\n",
    "    input_dir=path_to_train, \n",
    "    #samples=1000, \n",
    "    augmentation=test_augmentation, \n",
    "    batch_size=batch_size,\n",
    "    shuffle=True,\n",
    "    #collate_fn=collate_fn,\n",
    "    drop_last=True,\n",
    "    num_workers=num_workers,\n",
    "\n",
    ")\n",
    "train_pipe_dataset, val_pipe_dataset = pipe_data_train.split(0.8)\n",
    "\n",
    "print(len(val_pipe_dataset))\n",
    "print(len(train_pipe_dataset))\n",
    "print(len(pipe_data_train))"
   ]
  },
  {
   "cell_type": "markdown",
   "id": "4e77bf6b-a0cb-438d-be95-ea02eb5055c7",
   "metadata": {
    "jp-MarkdownHeadingCollapsed": true,
    "tags": []
   },
   "source": [
    "# Test Model"
   ]
  },
  {
   "cell_type": "code",
   "execution_count": null,
   "id": "9ba7cd1f-9189-4f89-bbd9-7cfcfaf6eb13",
   "metadata": {},
   "outputs": [],
   "source": [
    " \n",
    "model=MoCo()\n",
    "model=BYOL()\n",
    "model=SimCLR()\n",
    "model=SimSiam()\n",
    "model=BarlowTwins()\n",
    "model=VICReg()\n",
    "model.to(device)\n",
    "clear_output()"
   ]
  },
  {
   "cell_type": "markdown",
   "id": "303786cb-cbdf-4bf1-bbf1-03291bda4b84",
   "metadata": {
    "tags": []
   },
   "source": [
    "# Test Evaluation"
   ]
  },
  {
   "cell_type": "code",
   "execution_count": null,
   "id": "3d58ae0c-888e-4fe5-af81-270ceb27e9fe",
   "metadata": {},
   "outputs": [],
   "source": []
  },
  {
   "cell_type": "code",
   "execution_count": null,
   "id": "58a97405-bc5c-493b-85e8-bbd7fce63806",
   "metadata": {},
   "outputs": [],
   "source": [
    "pipe_data_train =PipeDataset(\n",
    "    input_dir=path_to_train, \n",
    "    #samples=1000, \n",
    "    augmentation=test_augmentation, \n",
    "    batch_size=batch_size,\n",
    "    shuffle=True,\n",
    "    #collate_fn=collate_fn,\n",
    "    drop_last=True,\n",
    "    num_workers=num_workers,\n",
    "\n",
    ")\n",
    "pipe_data_test =PipeDataset(\n",
    "    input_dir=path_to_test, \n",
    "    #samples=1000, \n",
    "    augmentation=test_augmentation, \n",
    "    batch_size=batch_size,\n",
    "    shuffle=True,\n",
    "    #collate_fn=collate_fn,\n",
    "    drop_last=True,\n",
    "    num_workers=num_workers,\n",
    "\n",
    ")\n",
    "model=MoCo()\n",
    "eval_linear(pipe_data_train,embedding_model=model,split=0.8,device=\"cuda\") \n",
    "eval_linear(pipe_data_train,embedding_model=model,test=pipe_data_test,device=\"cuda\") \n",
    "eval_KNN(pipe_data_train,embedding_model=model,split=0.8,device=\"cuda\") \n",
    "eval_KNN(pipe_data_train,embedding_model=model,test=pipe_data_test,device=\"cuda\")   \n",
    "eval_KNNplot(pipe_data_test,embedding_model=model,samples=2,device=\"cuda\")"
   ]
  },
  {
   "cell_type": "code",
   "execution_count": null,
   "id": "cb822870-e611-4da6-bc4f-def2fcddd34c",
   "metadata": {},
   "outputs": [],
   "source": [
    " "
   ]
  },
  {
   "cell_type": "code",
   "execution_count": null,
   "id": "4e83ec81-d0e2-43bc-89e8-eb86c60814b5",
   "metadata": {},
   "outputs": [],
   "source": [
    " "
   ]
  }
 ],
 "metadata": {
  "kernelspec": {
   "display_name": "Python 3 (ipykernel)",
   "language": "python",
   "name": "python3"
  },
  "language_info": {
   "codemirror_mode": {
    "name": "ipython",
    "version": 3
   },
   "file_extension": ".py",
   "mimetype": "text/x-python",
   "name": "python",
   "nbconvert_exporter": "python",
   "pygments_lexer": "ipython3",
   "version": "3.9.16"
  }
 },
 "nbformat": 4,
 "nbformat_minor": 5
}
